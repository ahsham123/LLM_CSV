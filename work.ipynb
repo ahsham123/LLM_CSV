{
 "cells": [
  {
   "cell_type": "code",
   "execution_count": 1,
   "metadata": {},
   "outputs": [
    {
     "name": "stderr",
     "output_type": "stream",
     "text": [
      "c:\\Users\\Admin\\Desktop\\work\\LLM_CSV\\.venv\\lib\\site-packages\\tqdm\\auto.py:21: TqdmWarning: IProgress not found. Please update jupyter and ipywidgets. See https://ipywidgets.readthedocs.io/en/stable/user_install.html\n",
      "  from .autonotebook import tqdm as notebook_tqdm\n"
     ]
    }
   ],
   "source": [
    "from langchain_openai import OpenAIEmbeddings\n",
    "from langchain_openai import OpenAI\n",
    "import openai\n",
    "from dotenv import load_dotenv\n",
    "from langchain_experimental.text_splitter import SemanticChunker\n",
    "import os\n",
    "from langchain_community.document_loaders.csv_loader import CSVLoader\n",
    "from huggingface_hub import login\n",
    "from langchain_openai import ChatOpenAI\n",
    "from langchain_community.vectorstores import FAISS\n",
    "from langchain_huggingface.embeddings import HuggingFaceEmbeddings\n",
    "from langchain_text_splitters import RecursiveCharacterTextSplitter\n",
    "\n",
    "load_dotenv()\n",
    "api_key = os.getenv('OPENAI_API_KEY')\n",
    "\n",
    "openai.api_key = api_key\n",
    "login(token=os.environ['HUGGINGFACEHUB_API_TOKEN'])"
   ]
  },
  {
   "cell_type": "code",
   "execution_count": 3,
   "metadata": {},
   "outputs": [],
   "source": [
    "from langchain_huggingface.embeddings import HuggingFaceEmbeddings\n",
    "emb = \"BAAI/bge-small-en\"\n",
    "model_kwargs = {'device': \"cpu\",'trust_remote_code':True}\n",
    "embeddings = HuggingFaceEmbeddings(\n",
    "     model_name=emb,\n",
    "     model_kwargs=model_kwargs\n",
    "    )\n",
    "\n",
    "\n",
    "text_splitter = RecursiveCharacterTextSplitter(chunk_size=1000,chunk_overlap=50)\n",
    "\n",
    "loader = CSVLoader(file_path=\"EverydaySupplyCo-Bulk_Price_List.csv\")\n",
    "docs = loader.load_and_split(text_splitter=text_splitter)\n"
   ]
  },
  {
   "cell_type": "code",
   "execution_count": 7,
   "metadata": {},
   "outputs": [],
   "source": [
    "\n",
    "from langchain_openai import ChatOpenAI\n",
    "\n",
    "llm = ChatOpenAI(model=\"gpt-4o-mini\")\n",
    "db = FAISS.from_documents(docs, embeddings)\n",
    "retriever = db.as_retriever()\n",
    "question = \"What is the price of PROFECTIV TRMPLE LEAVE IN COND 15OZ\"\n",
    "docss = retriever.invoke(question)\n",
    "\n",
    "\n",
    "llm = ChatOpenAI(model=\"gpt-4o-mini\",temperature=0.1)\n",
    "query = question + \"Answer from the context which is as follows: \" + str(docss)\n",
    "\n",
    "messages = [\n",
    "    (\n",
    "        \"system\",\n",
    "        \"You are a helpful assistant that Answers questions from a given CSV Sheet, answer questions accordingly.\",\n",
    "    ),\n",
    "    (\"human\", query),\n",
    "]\n",
    "response = llm.invoke(messages)\n",
    "response"
   ]
  },
  {
   "cell_type": "code",
   "execution_count": 10,
   "metadata": {},
   "outputs": [
    {
     "data": {
      "text/plain": [
       "[Document(metadata={'source': 'EverydaySupplyCo-Bulk_Price_List.csv', 'row': 131729}, page_content='SKU: KHE755795252812--15-1\\nProduct Title: KINDERS GRAVY TURKY BNE BRTH RSTD - Case of 15\\nBrand: KINDERS\\nUPC: 755795252812\\nWholesale Price: 25.76\\nCase Pack Size: -\\nPrice/Unit: -\\nMAP: -\\nCategory: Specialty Groce'),\n",
       " Document(metadata={'source': 'EverydaySupplyCo-Bulk_Price_List.csv', 'row': 10626}, page_content='SKU: HG2696268\\nProduct Title: Liquid I.v. - Drink Mx Pasnfrt 10ct - 1 Each-5.65 Oz\\nBrand: Liquid I.v.\\nUPC: 851741008486\\nWholesale Price: 14.55\\nCase Pack Size: 1\\nPrice/Unit: 14.55\\nMAP: -\\nCategory: General'),\n",
       " Document(metadata={'source': 'EverydaySupplyCo-Bulk_Price_List.csv', 'row': 133327}, page_content='SKU: KHE845780036043--6-1\\nProduct Title: URBANI TRUFFLES SAUCE MUSHRM BLK TRUFFLE - Case of 6\\nBrand: URBANI TRUFFLES\\nUPC: 845780036043\\nWholesale Price: 76.28\\nCase Pack Size: -\\nPrice/Unit: -\\nMAP: -\\nCategory: Specialty Groce'),\n",
       " Document(metadata={'source': 'EverydaySupplyCo-Bulk_Price_List.csv', 'row': 96146}, page_content='SKU: EJD8086638--6-1\\nProduct Title: TRUFF - Truff White Truffle Oil 5.6 oz Bottle - Case of 6\\nBrand: TRUFF\\nUPC: 850020861118\\nWholesale Price: 129.11\\nCase Pack Size: -\\nPrice/Unit: -\\nMAP: 24.99\\nCategory: AUTO/PET/SPORTS')]"
      ]
     },
     "execution_count": 10,
     "metadata": {},
     "output_type": "execute_result"
    }
   ],
   "source": [
    "question = \"What is the price of PROFECTIV TRMPLE LEAVE IN COND 15OZ\"\n",
    "docss = retriever.invoke(question)\n",
    "\n",
    "\n",
    "llm = ChatOpenAI(model=\"gpt-4o-mini\",temperature=0.1)\n",
    "query = question + \"Answer from the context which is as follows: \" + str(docss)\n",
    "\n",
    "messages = [\n",
    "    (\n",
    "        \"system\",\n",
    "        \"You are a helpful assistant that Answers questions from a given CSV Sheet, answer questions accordingly.\",\n",
    "    ),\n",
    "    (\"human\", query),\n",
    "]\n",
    "response = llm.invoke(messages)\n",
    "response"
   ]
  },
  {
   "cell_type": "code",
   "execution_count": 12,
   "metadata": {},
   "outputs": [
    {
     "data": {
      "text/plain": [
       "AIMessage(content='The price of PROFECTIV TRMPLE LEAVE IN COND 15OZ is not available in the provided context. The context includes information about other products but does not mention PROFECTIV TRMPLE LEAVE IN COND 15OZ.', response_metadata={'token_usage': {'completion_tokens': 53, 'prompt_tokens': 506, 'total_tokens': 559}, 'model_name': 'gpt-4o-mini-2024-07-18', 'system_fingerprint': 'fp_507c9469a1', 'finish_reason': 'stop', 'logprobs': None}, id='run-b7cdd213-0875-46f6-99a3-29aaf171f367-0', usage_metadata={'input_tokens': 506, 'output_tokens': 53, 'total_tokens': 559})"
      ]
     },
     "execution_count": 12,
     "metadata": {},
     "output_type": "execute_result"
    }
   ],
   "source": [
    "\n",
    "from langchain_openai import ChatOpenAI\n",
    "llm = ChatOpenAI(model=\"gpt-4o-mini\",temperature=0.1)\n",
    "query = question + \"Answer from the context which is as follows: \" + str(docss)\n",
    "\n",
    "messages = [\n",
    "    (\n",
    "        \"system\",\n",
    "        \"You are a helpful assistant that Answers questions from a given CSV Sheet, answer questions accordingly.\",\n",
    "    ),\n",
    "    (\"human\", query),\n",
    "]\n",
    "response = llm.invoke(messages)\n",
    "response"
   ]
  }
 ],
 "metadata": {
  "kernelspec": {
   "display_name": "app",
   "language": "python",
   "name": "python3"
  },
  "language_info": {
   "codemirror_mode": {
    "name": "ipython",
    "version": 3
   },
   "file_extension": ".py",
   "mimetype": "text/x-python",
   "name": "python",
   "nbconvert_exporter": "python",
   "pygments_lexer": "ipython3",
   "version": "3.10.11"
  }
 },
 "nbformat": 4,
 "nbformat_minor": 2
}
